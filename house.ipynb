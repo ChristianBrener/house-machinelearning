{
  "nbformat": 4,
  "nbformat_minor": 0,
  "metadata": {
    "colab": {
      "name": "house.ipynb",
      "provenance": [],
      "include_colab_link": true
    },
    "kernelspec": {
      "name": "python2",
      "display_name": "Python 2"
    }
  },
  "cells": [
    {
      "cell_type": "markdown",
      "metadata": {
        "id": "view-in-github",
        "colab_type": "text"
      },
      "source": [
        "<a href=\"https://colab.research.google.com/github/ChristianBrener/house-machinelearning/blob/main/house.ipynb\" target=\"_parent\"><img src=\"https://colab.research.google.com/assets/colab-badge.svg\" alt=\"Open In Colab\"/></a>"
      ]
    },
    {
      "cell_type": "markdown",
      "metadata": {
        "id": "mY1OQFWk-W4J"
      },
      "source": [
        "# Imports\n"
      ]
    },
    {
      "cell_type": "code",
      "metadata": {
        "id": "ZzPJ0bOJ-ZYR"
      },
      "source": [
        "import pandas as pd\n",
        "import numpy as np\n",
        "from sklearn import linear_model as lr\n",
        "from sklearn import model_selection as ms\n",
        "from sklearn import metrics as m"
      ],
      "execution_count": null,
      "outputs": []
    },
    {
      "cell_type": "markdown",
      "metadata": {
        "id": "9_lKQOEH-uXM"
      },
      "source": [
        "# Loading data\n"
      ]
    },
    {
      "cell_type": "code",
      "metadata": {
        "id": "9IhLYeOY-y8l",
        "colab": {
          "base_uri": "https://localhost:8080/"
        },
        "outputId": "0d40726d-cba4-4f64-aa8a-bd1af464870e"
      },
      "source": [
        "df_raw = pd.read_csv('kc_house_data.csv')\n"
      ],
      "execution_count": null,
      "outputs": [
        {
          "output_type": "execute_result",
          "data": {
            "text/plain": [
              "21613"
            ]
          },
          "metadata": {
            "tags": []
          },
          "execution_count": 7
        }
      ]
    },
    {
      "cell_type": "markdown",
      "metadata": {
        "id": "4P3poHNnC1f7"
      },
      "source": [
        "#Data prepareation"
      ]
    },
    {
      "cell_type": "code",
      "metadata": {
        "colab": {
          "base_uri": "https://localhost:8080/"
        },
        "id": "wBKa0hQoC6GK",
        "outputId": "4b4469d6-dafe-4c54-e89b-ad30526de865"
      },
      "source": [
        "x = df_raw.drop(['date','price'], axis=1)\n",
        "y = df_raw['price']\n",
        "\n",
        "x_train, x_test, y_train, y_test = ms.train_test_split(x, y, test_size=0.2, random_state=42)\n",
        "y_train.head()"
      ],
      "execution_count": null,
      "outputs": [
        {
          "output_type": "execute_result",
          "data": {
            "text/plain": [
              "6325     325000.0\n",
              "13473    257000.0\n",
              "17614    228500.0\n",
              "16970    288000.0\n",
              "20868    479000.0\n",
              "Name: price, dtype: float64"
            ]
          },
          "metadata": {
            "tags": []
          },
          "execution_count": 47
        }
      ]
    },
    {
      "cell_type": "markdown",
      "metadata": {
        "id": "Arzf8r5lFsmN"
      },
      "source": [
        "#Model train"
      ]
    },
    {
      "cell_type": "code",
      "metadata": {
        "id": "d7RfeHDIF3AB"
      },
      "source": [
        "#train\n",
        "model_lr = lr.LinearRegression()\n",
        "model_lr.fit(x_train, y_train)\n",
        "\n",
        "# prediction train\n",
        "pred_train = model_lr.predict(x_train)\n",
        "# prediction test\n",
        "pred_test = model_lr.predict(x_test)"
      ],
      "execution_count": null,
      "outputs": []
    },
    {
      "cell_type": "markdown",
      "metadata": {
        "id": "qN4mP_EvFu1F"
      },
      "source": [
        "#Performance metrics"
      ]
    },
    {
      "cell_type": "code",
      "metadata": {
        "id": "e8bg0bkh5_Rd"
      },
      "source": [
        "#train mae mape\n",
        "mae_train = m.mean_absolute_error (y_train, pred_train)\n",
        "mape_train = np.mean(np.abs((y_train - pred_train) * 100/y_train  ))\n",
        "#test mae mape\n",
        "mae_test = m.mean_absolute_error (y_test, pred_test)\n",
        "mape_test= np.mean(np.abs( ( y_test - pred_test ) * 100/y_test ))"
      ],
      "execution_count": null,
      "outputs": []
    },
    {
      "cell_type": "code",
      "metadata": {
        "colab": {
          "base_uri": "https://localhost:8080/",
          "height": 110
        },
        "id": "qVqfBWHO7k1H",
        "outputId": "f58d20c3-7d65-4301-e155-6524eeda567e"
      },
      "source": [
        "data =  {\n",
        "    'Dataframe': ['Training', 'Test'],\n",
        "    'Mae': [mae_train, mae_test],\n",
        "    'Mape': [mape_test, mape_test]\n",
        "}\n",
        "pd.DataFrame(data)\n"
      ],
      "execution_count": null,
      "outputs": [
        {
          "output_type": "execute_result",
          "data": {
            "text/plain": [
              "  Dataframe            Mae       Mape\n",
              "0  Training  125042.255205  24.958991\n",
              "1      Test  127474.102963  24.958991"
            ],
            "text/html": [
              "<div>\n",
              "<style scoped>\n",
              "    .dataframe tbody tr th:only-of-type {\n",
              "        vertical-align: middle;\n",
              "    }\n",
              "\n",
              "    .dataframe tbody tr th {\n",
              "        vertical-align: top;\n",
              "    }\n",
              "\n",
              "    .dataframe thead th {\n",
              "        text-align: right;\n",
              "    }\n",
              "</style>\n",
              "<table border=\"1\" class=\"dataframe\">\n",
              "  <thead>\n",
              "    <tr style=\"text-align: right;\">\n",
              "      <th></th>\n",
              "      <th>Dataframe</th>\n",
              "      <th>Mae</th>\n",
              "      <th>Mape</th>\n",
              "    </tr>\n",
              "  </thead>\n",
              "  <tbody>\n",
              "    <tr>\n",
              "      <th>0</th>\n",
              "      <td>Training</td>\n",
              "      <td>125042.255205</td>\n",
              "      <td>24.958991</td>\n",
              "    </tr>\n",
              "    <tr>\n",
              "      <th>1</th>\n",
              "      <td>Test</td>\n",
              "      <td>127474.102963</td>\n",
              "      <td>24.958991</td>\n",
              "    </tr>\n",
              "  </tbody>\n",
              "</table>\n",
              "</div>"
            ]
          },
          "metadata": {
            "tags": []
          },
          "execution_count": 45
        }
      ]
    }
  ]
}